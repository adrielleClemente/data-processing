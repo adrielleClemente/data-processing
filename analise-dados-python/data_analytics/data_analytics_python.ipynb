{
 "cells": [
  {
   "cell_type": "markdown",
   "id": "5ee1c6cf",
   "metadata": {},
   "source": [
    "#### Análises de dados com Python utilizando a biblioteca pandas\n",
    "\n",
    "**DATA SCIENCE:** Uma ciência que estuda informações. O processo de captura, geração, transformação e a análise.\n",
    "**BIBLIOTECA PANDA:** Biblioteca de código aberto, para trabalhar com dados tipo planilha. Onde possibilita manipular, alinhar e outros tipos de funções."
   ]
  },
  {
   "cell_type": "code",
   "execution_count": 54,
   "id": "9532be75",
   "metadata": {},
   "outputs": [],
   "source": [
    "#Para instalação da biblioteca Pandas, com o pip atualizado na máquina --> pip install pandas\n",
    "import pandas as pd  #importação da biblioteca Pandas a nomeando"
   ]
  },
  {
   "cell_type": "code",
   "execution_count": 6,
   "id": "68d97455",
   "metadata": {},
   "outputs": [],
   "source": [
    "#df de dataframe, um conjunto de dados estruturada como matriz, semelhante a tabela\n",
    "df = pd.read_csv('datasets/Gapminder.csv',sep=';') #leitura do documento, com separação por ;"
   ]
  },
  {
   "cell_type": "code",
   "execution_count": 9,
   "id": "c0817bc1",
   "metadata": {},
   "outputs": [
    {
     "data": {
      "text/html": [
       "<div>\n",
       "<style scoped>\n",
       "    .dataframe tbody tr th:only-of-type {\n",
       "        vertical-align: middle;\n",
       "    }\n",
       "\n",
       "    .dataframe tbody tr th {\n",
       "        vertical-align: top;\n",
       "    }\n",
       "\n",
       "    .dataframe thead th {\n",
       "        text-align: right;\n",
       "    }\n",
       "</style>\n",
       "<table border=\"1\" class=\"dataframe\">\n",
       "  <thead>\n",
       "    <tr style=\"text-align: right;\">\n",
       "      <th></th>\n",
       "      <th>country</th>\n",
       "      <th>continent</th>\n",
       "      <th>year</th>\n",
       "      <th>lifeExp</th>\n",
       "      <th>pop</th>\n",
       "      <th>gdpPercap</th>\n",
       "    </tr>\n",
       "  </thead>\n",
       "  <tbody>\n",
       "    <tr>\n",
       "      <th>0</th>\n",
       "      <td>Afghanistan</td>\n",
       "      <td>Asia</td>\n",
       "      <td>1952</td>\n",
       "      <td>28.801</td>\n",
       "      <td>8425333</td>\n",
       "      <td>779.445314</td>\n",
       "    </tr>\n",
       "    <tr>\n",
       "      <th>1</th>\n",
       "      <td>Afghanistan</td>\n",
       "      <td>Asia</td>\n",
       "      <td>1957</td>\n",
       "      <td>30.332</td>\n",
       "      <td>9240934</td>\n",
       "      <td>820.853030</td>\n",
       "    </tr>\n",
       "    <tr>\n",
       "      <th>2</th>\n",
       "      <td>Afghanistan</td>\n",
       "      <td>Asia</td>\n",
       "      <td>1962</td>\n",
       "      <td>31.997</td>\n",
       "      <td>10267083</td>\n",
       "      <td>853.100710</td>\n",
       "    </tr>\n",
       "    <tr>\n",
       "      <th>3</th>\n",
       "      <td>Afghanistan</td>\n",
       "      <td>Asia</td>\n",
       "      <td>1967</td>\n",
       "      <td>34.020</td>\n",
       "      <td>11537966</td>\n",
       "      <td>836.197138</td>\n",
       "    </tr>\n",
       "    <tr>\n",
       "      <th>4</th>\n",
       "      <td>Afghanistan</td>\n",
       "      <td>Asia</td>\n",
       "      <td>1972</td>\n",
       "      <td>36.088</td>\n",
       "      <td>13079460</td>\n",
       "      <td>739.981106</td>\n",
       "    </tr>\n",
       "  </tbody>\n",
       "</table>\n",
       "</div>"
      ],
      "text/plain": [
       "       country continent  year  lifeExp       pop   gdpPercap\n",
       "0  Afghanistan      Asia  1952   28.801   8425333  779.445314\n",
       "1  Afghanistan      Asia  1957   30.332   9240934  820.853030\n",
       "2  Afghanistan      Asia  1962   31.997  10267083  853.100710\n",
       "3  Afghanistan      Asia  1967   34.020  11537966  836.197138\n",
       "4  Afghanistan      Asia  1972   36.088  13079460  739.981106"
      ]
     },
     "execution_count": 9,
     "metadata": {},
     "output_type": "execute_result"
    }
   ],
   "source": [
    "df.head() #Visualização das 5 primeiras linhas"
   ]
  },
  {
   "cell_type": "code",
   "execution_count": 31,
   "id": "4943f4e4",
   "metadata": {},
   "outputs": [],
   "source": [
    "#Renomeação das colunas\n",
    "#Argumento 'inplace=True' para a renomeação vigorar\n",
    "df.rename(columns={'country':'Pais', 'continent':'Continente', 'year':'Ano','lifeExp':'Expectativa de Vida','pop': 'Pop Total', 'gdpPercap':'PIB'},inplace=True)"
   ]
  },
  {
   "cell_type": "code",
   "execution_count": 32,
   "id": "cf51cbe0",
   "metadata": {},
   "outputs": [
    {
     "data": {
      "text/plain": [
       "(3312, 6)"
      ]
     },
     "execution_count": 32,
     "metadata": {},
     "output_type": "execute_result"
    }
   ],
   "source": [
    "df.shape #Quantidade de linhas e colunas, respectivamente."
   ]
  },
  {
   "cell_type": "code",
   "execution_count": 33,
   "id": "6dc841cd",
   "metadata": {},
   "outputs": [
    {
     "data": {
      "text/plain": [
       "Index(['Pais', 'Continente', 'Ano', 'Expectativa de Vida', 'Pop Total', 'PIB'], dtype='object')"
      ]
     },
     "execution_count": 33,
     "metadata": {},
     "output_type": "execute_result"
    }
   ],
   "source": [
    "df.columns #Retorna as colunas"
   ]
  },
  {
   "cell_type": "code",
   "execution_count": 34,
   "id": "1ae9414e",
   "metadata": {},
   "outputs": [
    {
     "data": {
      "text/plain": [
       "Pais                    object\n",
       "Continente              object\n",
       "Ano                      int64\n",
       "Expectativa de Vida    float64\n",
       "Pop Total                int64\n",
       "PIB                    float64\n",
       "dtype: object"
      ]
     },
     "execution_count": 34,
     "metadata": {},
     "output_type": "execute_result"
    }
   ],
   "source": [
    "df.dtypes #Tipo de dados por coluna"
   ]
  },
  {
   "cell_type": "code",
   "execution_count": null,
   "id": "5bc2746b",
   "metadata": {},
   "outputs": [],
   "source": [
    "df.tail(15) #Visualização das últimas linhas(pode passar o n° desejado)"
   ]
  },
  {
   "cell_type": "code",
   "execution_count": null,
   "id": "ba640524",
   "metadata": {},
   "outputs": [],
   "source": [
    "df.describe() #Retorna informaçãoes estatísticas"
   ]
  },
  {
   "cell_type": "code",
   "execution_count": 39,
   "id": "a998eb2c",
   "metadata": {},
   "outputs": [
    {
     "data": {
      "text/plain": [
       "array(['Asia', 'Europe', 'Africa', 'Americas', nan, 'FSU', 'Oceania'],\n",
       "      dtype=object)"
      ]
     },
     "execution_count": 39,
     "metadata": {},
     "output_type": "execute_result"
    }
   ],
   "source": [
    "df['Continente'].unique() #Filtrar informação de uma coluna"
   ]
  },
  {
   "cell_type": "code",
   "execution_count": 47,
   "id": "687ba9c4",
   "metadata": {},
   "outputs": [
    {
     "data": {
      "text/html": [
       "<div>\n",
       "<style scoped>\n",
       "    .dataframe tbody tr th:only-of-type {\n",
       "        vertical-align: middle;\n",
       "    }\n",
       "\n",
       "    .dataframe tbody tr th {\n",
       "        vertical-align: top;\n",
       "    }\n",
       "\n",
       "    .dataframe thead th {\n",
       "        text-align: right;\n",
       "    }\n",
       "</style>\n",
       "<table border=\"1\" class=\"dataframe\">\n",
       "  <thead>\n",
       "    <tr style=\"text-align: right;\">\n",
       "      <th></th>\n",
       "      <th>Pais</th>\n",
       "      <th>Continente</th>\n",
       "      <th>Ano</th>\n",
       "      <th>Expectativa de Vida</th>\n",
       "      <th>Pop Total</th>\n",
       "      <th>PIB</th>\n",
       "    </tr>\n",
       "  </thead>\n",
       "  <tbody>\n",
       "    <tr>\n",
       "      <th>975</th>\n",
       "      <td>Fiji</td>\n",
       "      <td>Oceania</td>\n",
       "      <td>1962</td>\n",
       "      <td>56.494</td>\n",
       "      <td>421869</td>\n",
       "      <td>2039.393277</td>\n",
       "    </tr>\n",
       "    <tr>\n",
       "      <th>976</th>\n",
       "      <td>Fiji</td>\n",
       "      <td>Oceania</td>\n",
       "      <td>1967</td>\n",
       "      <td>58.607</td>\n",
       "      <td>485000</td>\n",
       "      <td>2170.073285</td>\n",
       "    </tr>\n",
       "    <tr>\n",
       "      <th>977</th>\n",
       "      <td>Fiji</td>\n",
       "      <td>Oceania</td>\n",
       "      <td>1972</td>\n",
       "      <td>60.642</td>\n",
       "      <td>544000</td>\n",
       "      <td>2797.759484</td>\n",
       "    </tr>\n",
       "    <tr>\n",
       "      <th>978</th>\n",
       "      <td>Fiji</td>\n",
       "      <td>Oceania</td>\n",
       "      <td>1977</td>\n",
       "      <td>62.669</td>\n",
       "      <td>599339</td>\n",
       "      <td>3182.569600</td>\n",
       "    </tr>\n",
       "    <tr>\n",
       "      <th>979</th>\n",
       "      <td>Fiji</td>\n",
       "      <td>Oceania</td>\n",
       "      <td>1982</td>\n",
       "      <td>64.683</td>\n",
       "      <td>658906</td>\n",
       "      <td>3209.257468</td>\n",
       "    </tr>\n",
       "  </tbody>\n",
       "</table>\n",
       "</div>"
      ],
      "text/plain": [
       "     Pais Continente   Ano  Expectativa de Vida  Pop Total          PIB\n",
       "975  Fiji    Oceania  1962               56.494     421869  2039.393277\n",
       "976  Fiji    Oceania  1967               58.607     485000  2170.073285\n",
       "977  Fiji    Oceania  1972               60.642     544000  2797.759484\n",
       "978  Fiji    Oceania  1977               62.669     599339  3182.569600\n",
       "979  Fiji    Oceania  1982               64.683     658906  3209.257468"
      ]
     },
     "execution_count": 47,
     "metadata": {},
     "output_type": "execute_result"
    }
   ],
   "source": [
    "#variável para localizar('loc') Oceania na coluna Continente\n",
    "oceania = df.loc[df['Continente']=='Oceania']\n",
    "#Visualizar as 5 primeiras linhas dessa nova variável\n",
    "oceania.head()"
   ]
  },
  {
   "cell_type": "code",
   "execution_count": 48,
   "id": "00856340",
   "metadata": {},
   "outputs": [
    {
     "data": {
      "text/plain": [
       "array(['Oceania'], dtype=object)"
      ]
     },
     "execution_count": 48,
     "metadata": {},
     "output_type": "execute_result"
    }
   ],
   "source": [
    "oceania['Continente'].unique() #Significa que toda a coluna Continente de oceania, é Oceania."
   ]
  },
  {
   "cell_type": "code",
   "execution_count": null,
   "id": "e1efc6d2",
   "metadata": {},
   "outputs": [],
   "source": [
    "df.groupby('Continente')['Pais'].nunique() #Agrupamento de dados. \n"
   ]
  },
  {
   "cell_type": "code",
   "execution_count": null,
   "id": "64d780ee",
   "metadata": {},
   "outputs": [],
   "source": [
    "#Expextativa média de vida por ano\n",
    "df.groupby('Ano')['Expectativa de Vida'].mean()"
   ]
  },
  {
   "cell_type": "code",
   "execution_count": 56,
   "id": "177b1c88",
   "metadata": {},
   "outputs": [
    {
     "data": {
      "text/plain": [
       "11317.115804696648"
      ]
     },
     "execution_count": 56,
     "metadata": {},
     "output_type": "execute_result"
    }
   ],
   "source": [
    "df['PIB'].mean()"
   ]
  },
  {
   "cell_type": "code",
   "execution_count": 57,
   "id": "bfa0a664",
   "metadata": {},
   "outputs": [
    {
     "data": {
      "text/plain": [
       "37482287.5451553"
      ]
     },
     "execution_count": 57,
     "metadata": {},
     "output_type": "execute_result"
    }
   ],
   "source": [
    "df['PIB'].sum()"
   ]
  },
  {
   "cell_type": "code",
   "execution_count": null,
   "id": "a457b0e1",
   "metadata": {},
   "outputs": [],
   "source": []
  },
  {
   "cell_type": "code",
   "execution_count": null,
   "id": "96012d9b",
   "metadata": {},
   "outputs": [],
   "source": []
  }
 ],
 "metadata": {
  "kernelspec": {
   "display_name": "Python 3 (ipykernel)",
   "language": "python",
   "name": "python3"
  },
  "language_info": {
   "codemirror_mode": {
    "name": "ipython",
    "version": 3
   },
   "file_extension": ".py",
   "mimetype": "text/x-python",
   "name": "python",
   "nbconvert_exporter": "python",
   "pygments_lexer": "ipython3",
   "version": "3.10.4"
  }
 },
 "nbformat": 4,
 "nbformat_minor": 5
}
